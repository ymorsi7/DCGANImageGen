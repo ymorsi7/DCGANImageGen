{
  "cells": [
    {
      "cell_type": "markdown",
      "metadata": {
        "id": "XizuUNSP451t"
      },
      "source": [
        "### Importing Packages"
      ]
    },
    {
      "cell_type": "code",
      "execution_count": 1,
      "metadata": {
        "colab": {
          "base_uri": "https://localhost:8080/"
        },
        "id": "4HWmzgSz3GJ5",
        "outputId": "b52e8d5c-23d4-4d48-9151-d6dd9b81bb31"
      },
      "outputs": [
        {
          "name": "stdout",
          "output_type": "stream",
          "text": [
            "Archive:  mosque_dataset.zip\n",
            "  End-of-central-directory signature not found.  Either this file is not\n",
            "  a zipfile, or it constitutes one disk of a multi-part archive.  In the\n",
            "  latter case the central directory and zipfile comment will be found on\n",
            "  the last disk(s) of this archive.\n",
            "unzip:  cannot find zipfile directory in one of mosque_dataset.zip or\n",
            "        mosque_dataset.zip.zip, and cannot find mosque_dataset.zip.ZIP, period.\n"
          ]
        }
      ],
      "source": [
        "!unzip -o mosque_dataset.zip"
      ]
    },
    {
      "cell_type": "code",
      "execution_count": 2,
      "metadata": {
        "id": "Oben3RLs451u"
      },
      "outputs": [],
      "source": [
        "from model import GeneratorGAN, DiscriminatorGAN\n",
        "from train import trainDiscriminator, trainGenerator, trainProcess, trainResults\n",
        "from test import testResults, testPlotting\n",
        "import numpy as np\n",
        "import matplotlib.pyplot as plt\n",
        "import torch\n",
        "import torch.nn as nn\n",
        "import torch.optim as optim\n",
        "import torch.utils.data\n",
        "from torch.utils.data import TensorDataset\n",
        "import torchvision.utils as vutils\n",
        "from torchvision import transforms\n",
        "import torchvision.datasets as dset"
      ]
    },
    {
      "cell_type": "markdown",
      "metadata": {
        "id": "2xRuFVfN451v"
      },
      "source": [
        "### Initializing GPU- we wanna make sure to use this if available"
      ]
    },
    {
      "cell_type": "code",
      "execution_count": 3,
      "metadata": {
        "colab": {
          "base_uri": "https://localhost:8080/"
        },
        "id": "lVLsSHnF451v",
        "outputId": "b35ef53a-88e9-4872-fae4-e39f00566bba"
      },
      "outputs": [
        {
          "name": "stdout",
          "output_type": "stream",
          "text": [
            "CUDA available: True\n"
          ]
        }
      ],
      "source": [
        "print(f'CUDA available: {torch.cuda.is_available()}')\n",
        "device = torch.device('cuda') if torch.cuda.is_available() else torch.device('cpu')"
      ]
    },
    {
      "cell_type": "code",
      "execution_count": 4,
      "metadata": {
        "id": "Mhsun-vz9FfS"
      },
      "outputs": [],
      "source": [
        "import os\n",
        "from PIL import Image\n",
        "from torch.utils.data import Dataset\n",
        "\n",
        "class ImageDataset(Dataset):\n",
        "    def __init__(self, root, transform=None):\n",
        "        self.root = root\n",
        "        self.transform = transform\n",
        "        self.images = [os.path.join(root, file) for file in os.listdir(root) if file.endswith(('jpg', 'jpeg', 'png'))]\n",
        "\n",
        "    def __len__(self):\n",
        "        return len(self.images)\n",
        "\n",
        "    def __getitem__(self, idx):\n",
        "        img_path = self.images[idx]\n",
        "        image = Image.open(img_path).convert(\"RGB\")\n",
        "        if self.transform:\n",
        "            image = self.transform(image)\n",
        "        return image, 0\n"
      ]
    },
    {
      "cell_type": "code",
      "execution_count": 5,
      "metadata": {
        "colab": {
          "base_uri": "https://localhost:8080/",
          "height": 358
        },
        "id": "u5LphLG2451v",
        "outputId": "4d1891a7-2b5f-42db-d7da-5a005fd1414b"
      },
      "outputs": [
        {
          "ename": "FileNotFoundError",
          "evalue": "[Errno 2] No such file or directory: 'mosque_dataset'",
          "output_type": "error",
          "traceback": [
            "\u001b[0;31m---------------------------------------------------------------------------\u001b[0m",
            "\u001b[0;31mFileNotFoundError\u001b[0m                         Traceback (most recent call last)",
            "\u001b[0;32m<ipython-input-5-d3c77bc6b72f>\u001b[0m in \u001b[0;36m<cell line: 2>\u001b[0;34m()\u001b[0m\n\u001b[1;32m      1\u001b[0m \u001b[0;31m# resize dataset to 64 x 64 images and tensorize\u001b[0m\u001b[0;34m\u001b[0m\u001b[0;34m\u001b[0m\u001b[0m\n\u001b[0;32m----> 2\u001b[0;31m dataset = ImageDataset(root='mosque_dataset',\n\u001b[0m\u001b[1;32m      3\u001b[0m                        transform=transforms.Compose([\n\u001b[1;32m      4\u001b[0m                            \u001b[0mtransforms\u001b[0m\u001b[0;34m.\u001b[0m\u001b[0mResize\u001b[0m\u001b[0;34m(\u001b[0m\u001b[0;36m64\u001b[0m\u001b[0;34m)\u001b[0m\u001b[0;34m,\u001b[0m\u001b[0;34m\u001b[0m\u001b[0;34m\u001b[0m\u001b[0m\n\u001b[1;32m      5\u001b[0m                            \u001b[0mtransforms\u001b[0m\u001b[0;34m.\u001b[0m\u001b[0mCenterCrop\u001b[0m\u001b[0;34m(\u001b[0m\u001b[0;36m64\u001b[0m\u001b[0;34m)\u001b[0m\u001b[0;34m,\u001b[0m\u001b[0;34m\u001b[0m\u001b[0;34m\u001b[0m\u001b[0m\n",
            "\u001b[0;32m<ipython-input-4-4dae8e0d36f8>\u001b[0m in \u001b[0;36m__init__\u001b[0;34m(self, root, transform)\u001b[0m\n\u001b[1;32m      7\u001b[0m         \u001b[0mself\u001b[0m\u001b[0;34m.\u001b[0m\u001b[0mroot\u001b[0m \u001b[0;34m=\u001b[0m \u001b[0mroot\u001b[0m\u001b[0;34m\u001b[0m\u001b[0;34m\u001b[0m\u001b[0m\n\u001b[1;32m      8\u001b[0m         \u001b[0mself\u001b[0m\u001b[0;34m.\u001b[0m\u001b[0mtransform\u001b[0m \u001b[0;34m=\u001b[0m \u001b[0mtransform\u001b[0m\u001b[0;34m\u001b[0m\u001b[0;34m\u001b[0m\u001b[0m\n\u001b[0;32m----> 9\u001b[0;31m         \u001b[0mself\u001b[0m\u001b[0;34m.\u001b[0m\u001b[0mimages\u001b[0m \u001b[0;34m=\u001b[0m \u001b[0;34m[\u001b[0m\u001b[0mos\u001b[0m\u001b[0;34m.\u001b[0m\u001b[0mpath\u001b[0m\u001b[0;34m.\u001b[0m\u001b[0mjoin\u001b[0m\u001b[0;34m(\u001b[0m\u001b[0mroot\u001b[0m\u001b[0;34m,\u001b[0m \u001b[0mfile\u001b[0m\u001b[0;34m)\u001b[0m \u001b[0;32mfor\u001b[0m \u001b[0mfile\u001b[0m \u001b[0;32min\u001b[0m \u001b[0mos\u001b[0m\u001b[0;34m.\u001b[0m\u001b[0mlistdir\u001b[0m\u001b[0;34m(\u001b[0m\u001b[0mroot\u001b[0m\u001b[0;34m)\u001b[0m \u001b[0;32mif\u001b[0m \u001b[0mfile\u001b[0m\u001b[0;34m.\u001b[0m\u001b[0mendswith\u001b[0m\u001b[0;34m(\u001b[0m\u001b[0;34m(\u001b[0m\u001b[0;34m'jpg'\u001b[0m\u001b[0;34m,\u001b[0m \u001b[0;34m'jpeg'\u001b[0m\u001b[0;34m,\u001b[0m \u001b[0;34m'png'\u001b[0m\u001b[0;34m)\u001b[0m\u001b[0;34m)\u001b[0m\u001b[0;34m]\u001b[0m\u001b[0;34m\u001b[0m\u001b[0;34m\u001b[0m\u001b[0m\n\u001b[0m\u001b[1;32m     10\u001b[0m \u001b[0;34m\u001b[0m\u001b[0m\n\u001b[1;32m     11\u001b[0m     \u001b[0;32mdef\u001b[0m \u001b[0m__len__\u001b[0m\u001b[0;34m(\u001b[0m\u001b[0mself\u001b[0m\u001b[0;34m)\u001b[0m\u001b[0;34m:\u001b[0m\u001b[0;34m\u001b[0m\u001b[0;34m\u001b[0m\u001b[0m\n",
            "\u001b[0;31mFileNotFoundError\u001b[0m: [Errno 2] No such file or directory: 'mosque_dataset'"
          ]
        }
      ],
      "source": [
        "# resize to 64 x 64 \n",
        "dataset = ImageDataset(root='mosque_dataset',\n",
        "                       transform=transforms.Compose([\n",
        "                           transforms.Resize(64),\n",
        "                           transforms.CenterCrop(64),\n",
        "                           transforms.ToTensor(),\n",
        "                       ]))\n",
        "\n",
        "train_size = int(.7 * len(dataset))\n",
        "test_size = len(dataset) - train_size\n",
        "train_set, test_set = torch.utils.data.random_split(dataset, [train_size, test_size])\n",
        "\n",
        "train_loader = torch.utils.data.DataLoader(train_set, batch_size=128, shuffle=True, num_workers=2, drop_last=True)\n",
        "test_loader = torch.utils.data.DataLoader(test_set, batch_size=128, shuffle=True, num_workers=2, drop_last=True)"
      ]
    },
    {
      "cell_type": "markdown",
      "metadata": {
        "id": "VmzbLISC451v"
      },
      "source": [
        "### Displaying Real Images"
      ]
    },
    {
      "cell_type": "code",
      "execution_count": null,
      "metadata": {
        "id": "IFGcIctt451v"
      },
      "outputs": [],
      "source": [
        "for i, (images, _) in enumerate(train_loader):\n",
        "    images = images.to(device)[:64] # get only half of the 128 images\n",
        "    break\n",
        "plt.figure(figsize = (8, 8))\n",
        "plt.title(\"Real Images from Training Data\")\n",
        "plt.axis('off')\n",
        "plt.imshow(np.transpose(vutils.make_grid(images, padding= True).cpu(), (1, 2, 0))) # rearrange to height, width, channels"
      ]
    },
    {
      "cell_type": "markdown",
      "metadata": {
        "id": "3xGQb8oF451v"
      },
      "source": [
        "### Weight Initialization"
      ]
    },
    {
      "cell_type": "code",
      "execution_count": null,
      "metadata": {
        "id": "6_Rz2TvR451v"
      },
      "outputs": [],
      "source": [
        "def w_init(m):\n",
        "    if isinstance(m, nn.ConvTranspose2d) or isinstance(m, nn.Conv2d):\n",
        "        nn.init.normal_(m.weight.data, 0, .02) # 0 mean 0.02 stdev\n",
        "    if isinstance(m, nn.BatchNorm2d):\n",
        "        nn.init.normal_(m.weight.data, 1, .02) # 1 mean .02 stdev\n",
        "        nn.init.constant_(m.bias.data, 0) #some constant for bn"
      ]
    },
    {
      "cell_type": "markdown",
      "metadata": {
        "id": "rfGQtxVB451w"
      },
      "source": [
        "### Initializing and Debugging Generator Model"
      ]
    },
    {
      "cell_type": "code",
      "execution_count": null,
      "metadata": {
        "id": "l5fjT-oZ451w"
      },
      "outputs": [],
      "source": [
        "G = GeneratorGAN(kernSize = 5, padVal = 2)\n",
        "G = G.to(device)\n",
        "G.apply(w_init)\n",
        "\n",
        "# testing random vector to ensure correct output\n",
        "fixed_noise = torch.rand(128, 100, 1, 1)\n",
        "fixed_noise = fixed_noise.to(device)\n",
        "with torch.no_grad():\n",
        "    output = G(fixed_noise)\n",
        "output.shape"
      ]
    },
    {
      "cell_type": "markdown",
      "metadata": {
        "id": "BU-5YSUO451w"
      },
      "source": [
        "### Initializing and Debugging Discriminator Model"
      ]
    },
    {
      "cell_type": "code",
      "execution_count": null,
      "metadata": {
        "id": "PdCjicDn451w"
      },
      "outputs": [],
      "source": [
        "D = DiscriminatorGAN(kernSize = 5, padVal = 2)\n",
        "D = D.to(device)\n",
        "D.apply(w_init)\n",
        "# testing random image to ensure correct output\n",
        "sample_image = dataset[0][0]\n",
        "sample_image = sample_image.unsqueeze(0)\n",
        "sample_image = sample_image.to(device)\n",
        "with torch.no_grad():\n",
        "    output = D(sample_image)\n",
        "output.shape"
      ]
    },
    {
      "cell_type": "markdown",
      "metadata": {
        "id": "1mehYa3-451w"
      },
      "source": [
        "### Optimizing Number of Epochs"
      ]
    },
    {
      "cell_type": "code",
      "execution_count": null,
      "metadata": {
        "id": "ZooGwZ8p451w"
      },
      "outputs": [],
      "source": [
        "# # num_epochs should be a single integer value, not a list\n",
        "# num_epochs = 300\n",
        "# lr = .0002\n",
        "\n",
        "# # Initialize the models, optimizers, and loss lists\n",
        "# dLoss = []\n",
        "# gLoss = []\n",
        "# G = GeneratorGAN(kernSize=5, padVal=2)\n",
        "# G = G.to(device)\n",
        "# G.apply(w_init)\n",
        "# D = DiscriminatorGAN(kernSize=5, padVal=2)\n",
        "# D = D.to(device)\n",
        "# D.apply(w_init)\n",
        "# optimD = optim.Adam(D.parameters(), lr=lr, betas=(0.5, .999))\n",
        "# optimG = optim.Adam(G.parameters(), lr=lr, betas=(0.5, .999))\n",
        "\n",
        "# # Train the models\n",
        "# trainProcess(num_epochs, train_loader, D, G, optimD, optimG, dLoss, gLoss, lr, 5, 2, device)\n",
        "# trainResults(num_epochs, G, dLoss, gLoss, device)\n",
        "\n"
      ]
    },
    {
      "cell_type": "markdown",
      "metadata": {
        "id": "RxJN5J74451w"
      },
      "source": [
        "![image-2.png](attachment:image-2.png) <br>\n",
        "![image-3.png](attachment:image-3.png) <br>\n",
        "![image.png](attachment:image.png) <br>\n",
        "![image-4.png](attachment:image-4.png) <br>\n",
        "![image-5.png](attachment:image-5.png) <br>"
      ]
    },
    {
      "cell_type": "markdown",
      "metadata": {
        "id": "equg9CrM451w"
      },
      "source": [
        "### Optimizing Learning Rate"
      ]
    },
    {
      "cell_type": "code",
      "execution_count": null,
      "metadata": {
        "id": "3hUQdM8M451w"
      },
      "outputs": [],
      "source": [
        "epoch_num = 100\n",
        "# learning_rates = [.00009, .0006, .0009]\n",
        "# the parameters below reset every time to ensure a new model is being trained after every iteration\n",
        "\n",
        "# for lr in learning_rates:\n",
        "#     dLoss = []\n",
        "#     gLoss = []\n",
        "#     G = GeneratorGAN(kernSize=5, padVal=2)\n",
        "#     G = G.to(device)\n",
        "#     G.apply(w_init)\n",
        "#     D = DiscriminatorGAN(kernSize=5, padVal=2)\n",
        "#     D = D.to(device)\n",
        "#     D.apply(w_init)\n",
        "#     optimD = optim.Adam(D.parameters(), lr=lr, betas=(0.5, .999))\n",
        "#     optimG = optim.Adam(G.parameters(), lr=lr, betas=(0.5, .999))\n",
        "#     trainProcess(epoch_num, train_loader, D, G, optimD, optimG, dLoss, gLoss, lr, 5, 2, device)\n",
        "#     trainResults(epoch_num, G, dLoss, gLoss, device)\n",
        "\n",
        "# lr = .000009\n",
        "\n",
        "# dLoss = []\n",
        "# gLoss = []\n",
        "# G = GeneratorGAN(kernSize=5, padVal=2)\n",
        "# G = G.to(device)\n",
        "# G.apply(w_init)\n",
        "# D = DiscriminatorGAN(kernSize=5, padVal=2)\n",
        "# D = D.to(device)\n",
        "# D.apply(w_init)\n",
        "# optimD = optim.Adam(D.parameters(), lr=lr, betas=(0.5, .999))\n",
        "# optimG = optim.Adam(G.parameters(), lr=lr, betas=(0.5, .999))\n",
        "\n",
        "# # Train the models\n",
        "# trainProcess(num_epochs, train_loader, D, G, optimD, optimG, dLoss, gLoss, lr, 5, 2, device)\n",
        "# trainResults(num_epochs, G, dLoss, gLoss, device)"
      ]
    },
    {
      "cell_type": "code",
      "execution_count": null,
      "metadata": {
        "id": "xgshhosbikjk"
      },
      "outputs": [],
      "source": [
        "# epoch_num = 300\n",
        "# lr = .00009\n",
        "\n",
        "# dLoss = []\n",
        "# gLoss = []\n",
        "# G = GeneratorGAN(kernSize=5, padVal=2)\n",
        "# G = G.to(device)\n",
        "# G.apply(w_init)\n",
        "# D = DiscriminatorGAN(kernSize=5, padVal=2)\n",
        "# D = D.to(device)\n",
        "# D.apply(w_init)\n",
        "# optimD = optim.Adam(D.parameters(), lr=lr, betas=(0.5, .999))\n",
        "# optimG = optim.Adam(G.parameters(), lr=lr, betas=(0.5, .999))\n",
        "\n",
        "# # Train the models\n",
        "# trainProcess(num_epochs, train_loader, D, G, optimD, optimG, dLoss, gLoss, lr, 5, 2, device)\n",
        "# trainResults(num_epochs, G, dLoss, gLoss, device)"
      ]
    },
    {
      "cell_type": "markdown",
      "metadata": {
        "id": "5nR_Vgm0451w"
      },
      "source": [
        "![image.png](attachment:image.png) <br>\n",
        "![image-2.png](attachment:image-2.png)"
      ]
    },
    {
      "cell_type": "markdown",
      "metadata": {
        "id": "QAjUpfRE451w"
      },
      "source": [
        "### Trying a Smaller Kernel Size"
      ]
    },
    {
      "cell_type": "code",
      "execution_count": null,
      "metadata": {
        "id": "QXx-lTj2451w"
      },
      "outputs": [],
      "source": [
        "# epoch_num = 100\n",
        "# lr = .00009\n",
        "# batch_size = 128\n",
        "# dLoss = []\n",
        "# gLoss = []\n",
        "# G = GeneratorGAN(kernSize=3, padVal=1)\n",
        "# G = G.to(device)\n",
        "# G.apply(w_init)\n",
        "# D = DiscriminatorGAN(kernSize=3, padVal=1)\n",
        "# D = D.to(device)\n",
        "# D.apply(w_init)\n",
        "# optimD = optim.Adam(D.parameters(), lr=lr, betas=(0.5, .999))\n",
        "# optimG = optim.Adam(G.parameters(), lr=lr, betas=(0.5, .999))\n",
        "\n",
        "# trainProcess(epoch_num, train_loader, D, G, optimD, optimG, dLoss, gLoss, lr, 3, 1, device)\n",
        "# trainResults(epoch_num, G, dLoss, gLoss, device)\n"
      ]
    },
    {
      "cell_type": "markdown",
      "metadata": {
        "id": "RGe37f2J451w"
      },
      "source": [
        "### Trying a Larger Kernel Size"
      ]
    },
    {
      "cell_type": "code",
      "execution_count": null,
      "metadata": {
        "id": "GMYspOX_451x"
      },
      "outputs": [],
      "source": [
        "# epoch_num = 300\n",
        "# lr = .00009\n",
        "# batch_size = 128\n",
        "# dLoss = []\n",
        "# gLoss = []\n",
        "# G = GeneratorGAN(kernSize=7, padVal=3)\n",
        "# G = G.to(device)\n",
        "# G.apply(w_init)\n",
        "# D = DiscriminatorGAN(kernSize=7, padVal=3)\n",
        "# D = D.to(device)\n",
        "# D.apply(w_init)\n",
        "# optimD = optim.Adam(D.parameters(), lr=lr, betas=(0.5, .999))\n",
        "# optimG = optim.Adam(G.parameters(), lr=lr, betas=(0.5, .999))\n",
        "# trainProcess(epoch_num, train_loader, D, G, optimD, optimG, dLoss, gLoss, lr, 7, 3, device)\n",
        "# trainResults(epoch_num, G, dLoss, gLoss, device)\n",
        "\n"
      ]
    },
    {
      "cell_type": "markdown",
      "metadata": {
        "id": "hsdd_BVe451x"
      },
      "source": [
        "### Testing"
      ]
    },
    {
      "cell_type": "markdown",
      "metadata": {
        "id": "zSd1vCwx451x"
      },
      "source": [
        "#### 200 Epochs, KernelSize 5, Padding 2"
      ]
    },
    {
      "cell_type": "code",
      "execution_count": null,
      "metadata": {
        "id": "cnJgqoDe451x"
      },
      "outputs": [],
      "source": [
        "fakeResults, realResults = testResults(test_loader, 200, .00009, 5, 2)\n",
        "testPlotting(fakeResults, realResults)"
      ]
    },
    {
      "cell_type": "markdown",
      "metadata": {
        "id": "hxRhnUYo451x"
      },
      "source": [
        "#### 300 Epochs, KernelSize 5, Padding 2"
      ]
    },
    {
      "cell_type": "code",
      "execution_count": null,
      "metadata": {
        "id": "7Y0GoisN451x"
      },
      "outputs": [],
      "source": [
        "fakeResults, realResults = testResults(test_loader, 300, .00009, 5, 2)\n",
        "testPlotting(fakeResults, realResults)"
      ]
    },
    {
      "cell_type": "markdown",
      "metadata": {
        "id": "57PVpB0D451x"
      },
      "source": [
        "![img](images/300epochsconfmtx.png)"
      ]
    }
  ],
  "metadata": {
    "accelerator": "GPU",
    "colab": {
      "gpuType": "L4",
      "provenance": []
    },
    "kernelspec": {
      "display_name": "Python 3",
      "name": "python3"
    },
    "language_info": {
      "codemirror_mode": {
        "name": "ipython",
        "version": 3
      },
      "file_extension": ".py",
      "mimetype": "text/x-python",
      "name": "python",
      "nbconvert_exporter": "python",
      "pygments_lexer": "ipython3",
      "version": "3.11.4"
    }
  },
  "nbformat": 4,
  "nbformat_minor": 0
}
